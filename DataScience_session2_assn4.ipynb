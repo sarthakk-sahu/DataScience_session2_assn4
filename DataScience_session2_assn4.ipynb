{
 "cells": [
  {
   "cell_type": "code",
   "execution_count": 17,
   "metadata": {},
   "outputs": [
    {
     "name": "stdout",
     "output_type": "stream",
     "text": [
      "Enter some string:\n",
      "WE, THE PEOPLE OF INDIA, having solemnly resolved to constitute India into a SOVEREIGN, SOCIALIST, SECULAR, DEMOCRATIC REPUBLIC and to secure to all its citizens\n",
      "\n",
      "\n",
      "Sample Output:\n",
      "WE, THE PEOPLE OF INDIA, \n",
      "having solemnly resolved to constitute India into a SOVEREIGN, !\n",
      "SOCIALIST, SECULAR, DEMOCRATIC REPUBLIC\n",
      "and to secure to all its citizens:\n"
     ]
    }
   ],
   "source": [
    "# Write a Python Program to print the given string in the format specified in the sample output.\n",
    "# WE, THE PEOPLE OF INDIA, having solemnly resolved to constitute India into a\n",
    "# SOVEREIGN, SOCIALIST, SECULAR, DEMOCRATIC REPUBLIC and to secure to all\n",
    "# its citizens\n",
    "\n",
    "# Sample Output:\n",
    "# WE, THE PEOPLE OF INDIA,\n",
    "# having solemnly resolved to constitute India into a SOVEREIGN, !\n",
    "# SOCIALIST, SECULAR, DEMOCRATIC REPUBLIC\n",
    "# and to secure to all its citizens:\n",
    "\n",
    "\n",
    "user_input = input (\"Enter some string:\\n\")\n",
    "print(\"\\n\")\n",
    "print(\"Sample Output:\")\n",
    "print(user_input.replace(\"INDIA, \",\"INDIA, \"\"\\n\").replace(\"SOVEREIGN, \",\"SOVEREIGN, !\"\"\\n\")\n",
    "      .replace(\"REPUBLIC \",\"REPUBLIC\"\"\\n\").replace(\"citizens\",\"citizens:\"))"
   ]
  }
 ],
 "metadata": {
  "kernelspec": {
   "display_name": "Python 3",
   "language": "python",
   "name": "python3"
  },
  "language_info": {
   "codemirror_mode": {
    "name": "ipython",
    "version": 3
   },
   "file_extension": ".py",
   "mimetype": "text/x-python",
   "name": "python",
   "nbconvert_exporter": "python",
   "pygments_lexer": "ipython3",
   "version": "3.6.3"
  }
 },
 "nbformat": 4,
 "nbformat_minor": 2
}
